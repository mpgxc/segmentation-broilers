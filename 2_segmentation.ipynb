{
 "cells": [
  {
   "cell_type": "code",
   "execution_count": 1,
   "id": "74f571dd",
   "metadata": {},
   "outputs": [],
   "source": [
    "import os\n",
    "import cv2 \n",
    "import tifffile\n",
    "import statistics\n",
    "import numpy as np\n",
    "\n",
    "from tqdm import tqdm\n",
    "from glob import glob\n",
    "from skimage.io import imsave, imread\n",
    "from skimage import (\n",
    "    measure,\n",
    "    morphology,\n",
    "    filters,\n",
    "    exposure,\n",
    "    feature,\n",
    "    img_as_uint,\n",
    "    img_as_ubyte,\n",
    ")\n",
    "\n",
    "from commons import (rescale_arr, \n",
    "                     check_colision_border, \n",
    "                     smoothing_mask_edges, \n",
    "                     find_bighest_cluster,\n",
    "                     binarize_image,\n",
    "                     auto_invert_image_mask,\n",
    "                     fill_smoothing_mask_edges,\n",
    "                     plot)"
   ]
  },
  {
   "cell_type": "code",
   "execution_count": 2,
   "id": "bf886899-5ee3-4051-8d14-de92f2a3ea7c",
   "metadata": {},
   "outputs": [],
   "source": [
    "import warnings\n",
    "\n",
    "warnings.filterwarnings('ignore')"
   ]
  },
  {
   "cell_type": "code",
   "execution_count": 3,
   "id": "106d320d-6ac0-4dc8-af95-3cefd3c3b262",
   "metadata": {},
   "outputs": [],
   "source": [
    "def adaptive_threshold(image):\n",
    "    def apply_thresh(image, block_size=1, thresh_type=199):\n",
    "        return cv2.adaptiveThreshold(image, \n",
    "                                     255,\n",
    "                                     cv2.ADAPTIVE_THRESH_MEAN_C,\n",
    "                                     cv2.THRESH_BINARY_INV, \n",
    "                                     thresh_type,\n",
    "                                     block_size).astype(bool)\n",
    "    mask = apply_thresh(image)\n",
    "    mask = auto_invert_image_mask(mask)\n",
    "    \n",
    "    if check_colision_border(mask):\n",
    "        for block in range(1, 9):\n",
    "\n",
    "            mask = apply_thresh(image, block)\n",
    "            mask = find_bighest_cluster(mask)\n",
    "            \n",
    "            if not check_colision_border(mask): break\n",
    "\n",
    "    mask = auto_invert_image_mask(mask)\n",
    "    \n",
    "    return fill_smoothing_mask_edges(mask)"
   ]
  },
  {
   "cell_type": "code",
   "execution_count": 4,
   "id": "201f361e-dd8f-4c51-bfb5-89037e451c21",
   "metadata": {},
   "outputs": [],
   "source": [
    "def apply_segment_sobel_canny(img):\n",
    "    \n",
    "    \"\"\"\n",
    "        Eu dou preferência para o sobel, caso ele não tank eu vou de canny, até dá certo xD\n",
    "    \"\"\"\n",
    "    image_eq = exposure.equalize_hist(img)\n",
    "    \n",
    "    sobel_mask = filters.sobel(image_eq)\n",
    "    sobel_mask = fill_smoothing_mask_edges(sobel_mask)\n",
    "    \n",
    "    if not check_colision_border(sobel_mask):\n",
    "        return sobel_mask\n",
    "\n",
    "    for sigma in range(0, 9):\n",
    "\n",
    "        canny_mask = feature.canny(image_eq, sigma=sigma)\n",
    "        canny_mask = fill_smoothing_mask_edges(canny_mask)\n",
    "\n",
    "        if not check_colision_border(canny_mask): \n",
    "            break\n",
    "\n",
    "    return canny_mask"
   ]
  },
  {
   "cell_type": "markdown",
   "id": "5ebeceb6-ab87-4acc-89f9-0a4dcaafd571",
   "metadata": {},
   "source": [
    "## Exemplo dos segmenters"
   ]
  },
  {
   "cell_type": "code",
   "execution_count": 12,
   "id": "dc0c2ddc-05d2-43ea-8896-db6b63770e7b",
   "metadata": {},
   "outputs": [
    {
     "ename": "ValueError",
     "evalue": "attempt to get argmax of an empty sequence",
     "output_type": "error",
     "traceback": [
      "\u001b[1;31m---------------------------------------------------------------------------\u001b[0m",
      "\u001b[1;31mValueError\u001b[0m                                Traceback (most recent call last)",
      "Input \u001b[1;32mIn [12]\u001b[0m, in \u001b[0;36m<cell line: 3>\u001b[1;34m()\u001b[0m\n\u001b[0;32m      1\u001b[0m image \u001b[38;5;241m=\u001b[39m imread(\u001b[38;5;124m'\u001b[39m\u001b[38;5;124mSegmentadas/images/002.tif\u001b[39m\u001b[38;5;124m'\u001b[39m)\n\u001b[1;32m----> 3\u001b[0m mask_sobel_canny \u001b[38;5;241m=\u001b[39m \u001b[43mapply_segment_sobel_canny\u001b[49m\u001b[43m(\u001b[49m\u001b[43mimage\u001b[49m\u001b[43m)\u001b[49m\n\u001b[0;32m      4\u001b[0m mask_adpt_thresh \u001b[38;5;241m=\u001b[39m adaptive_threshold(image)\n\u001b[0;32m      6\u001b[0m plot([image, \n\u001b[0;32m      7\u001b[0m       (image \u001b[38;5;241m*\u001b[39m mask_sobel_canny), \n\u001b[0;32m      8\u001b[0m       (image \u001b[38;5;241m*\u001b[39m mask_adpt_thresh)], (\u001b[38;5;241m1\u001b[39m, \u001b[38;5;241m3\u001b[39m))\n",
      "Input \u001b[1;32mIn [4]\u001b[0m, in \u001b[0;36mapply_segment_sobel_canny\u001b[1;34m(img)\u001b[0m\n\u001b[0;32m     14\u001b[0m \u001b[38;5;28;01mfor\u001b[39;00m sigma \u001b[38;5;129;01min\u001b[39;00m \u001b[38;5;28mrange\u001b[39m(\u001b[38;5;241m0\u001b[39m, \u001b[38;5;241m9\u001b[39m):\n\u001b[0;32m     16\u001b[0m     canny_mask \u001b[38;5;241m=\u001b[39m feature\u001b[38;5;241m.\u001b[39mcanny(image_eq, sigma\u001b[38;5;241m=\u001b[39msigma)\n\u001b[1;32m---> 17\u001b[0m     canny_mask \u001b[38;5;241m=\u001b[39m \u001b[43mfill_smoothing_mask_edges\u001b[49m\u001b[43m(\u001b[49m\u001b[43mcanny_mask\u001b[49m\u001b[43m)\u001b[49m\n\u001b[0;32m     19\u001b[0m     \u001b[38;5;28;01mif\u001b[39;00m \u001b[38;5;129;01mnot\u001b[39;00m check_colision_border(canny_mask): \n\u001b[0;32m     20\u001b[0m         \u001b[38;5;28;01mbreak\u001b[39;00m\n",
      "File \u001b[1;32mC:\\www\\segmentation-broilers\\commons.py:218\u001b[0m, in \u001b[0;36mfill_smoothing_mask_edges\u001b[1;34m(mask)\u001b[0m\n\u001b[0;32m    214\u001b[0m mask \u001b[38;5;241m=\u001b[39m ndi\u001b[38;5;241m.\u001b[39mbinary_fill_holes(mask)\n\u001b[0;32m    216\u001b[0m mask \u001b[38;5;241m=\u001b[39m filters\u001b[38;5;241m.\u001b[39mgaussian(mask, sigma\u001b[38;5;241m=\u001b[39m\u001b[38;5;241m0.5\u001b[39m)\n\u001b[1;32m--> 218\u001b[0m mask \u001b[38;5;241m=\u001b[39m \u001b[43mbinarize_image\u001b[49m\u001b[43m(\u001b[49m\u001b[43mmask\u001b[49m\u001b[43m)\u001b[49m\n\u001b[0;32m    220\u001b[0m \u001b[38;5;28;01mreturn\u001b[39;00m find_bighest_cluster(mask)\n",
      "File \u001b[1;32mC:\\www\\segmentation-broilers\\commons.py:31\u001b[0m, in \u001b[0;36mbinarize_image\u001b[1;34m(arr)\u001b[0m\n\u001b[0;32m     30\u001b[0m \u001b[38;5;28;01mdef\u001b[39;00m \u001b[38;5;21mbinarize_image\u001b[39m(arr):\n\u001b[1;32m---> 31\u001b[0m   \u001b[38;5;28;01mreturn\u001b[39;00m arr \u001b[38;5;241m>\u001b[39m \u001b[43mfilters\u001b[49m\u001b[38;5;241;43m.\u001b[39;49m\u001b[43mthreshold_triangle\u001b[49m\u001b[43m(\u001b[49m\u001b[43marr\u001b[49m\u001b[43m)\u001b[49m\n",
      "File \u001b[1;32m~\\anaconda3\\lib\\site-packages\\skimage\\filters\\thresholding.py:960\u001b[0m, in \u001b[0;36mthreshold_triangle\u001b[1;34m(image, nbins)\u001b[0m\n\u001b[0;32m    955\u001b[0m \u001b[38;5;66;03m# Maximize the length.\u001b[39;00m\n\u001b[0;32m    956\u001b[0m \u001b[38;5;66;03m# The ImageJ implementation includes an additional constant when calculating\u001b[39;00m\n\u001b[0;32m    957\u001b[0m \u001b[38;5;66;03m# the length, but here we omit it as it does not affect the location of the\u001b[39;00m\n\u001b[0;32m    958\u001b[0m \u001b[38;5;66;03m# minimum.\u001b[39;00m\n\u001b[0;32m    959\u001b[0m length \u001b[38;5;241m=\u001b[39m peak_height \u001b[38;5;241m*\u001b[39m x1 \u001b[38;5;241m-\u001b[39m width \u001b[38;5;241m*\u001b[39m y1\n\u001b[1;32m--> 960\u001b[0m arg_level \u001b[38;5;241m=\u001b[39m \u001b[43mnp\u001b[49m\u001b[38;5;241;43m.\u001b[39;49m\u001b[43margmax\u001b[49m\u001b[43m(\u001b[49m\u001b[43mlength\u001b[49m\u001b[43m)\u001b[49m \u001b[38;5;241m+\u001b[39m arg_low_level\n\u001b[0;32m    962\u001b[0m \u001b[38;5;28;01mif\u001b[39;00m flip:\n\u001b[0;32m    963\u001b[0m     arg_level \u001b[38;5;241m=\u001b[39m nbins \u001b[38;5;241m-\u001b[39m arg_level \u001b[38;5;241m-\u001b[39m \u001b[38;5;241m1\u001b[39m\n",
      "File \u001b[1;32m<__array_function__ internals>:5\u001b[0m, in \u001b[0;36margmax\u001b[1;34m(*args, **kwargs)\u001b[0m\n",
      "File \u001b[1;32m~\\anaconda3\\lib\\site-packages\\numpy\\core\\fromnumeric.py:1195\u001b[0m, in \u001b[0;36margmax\u001b[1;34m(a, axis, out)\u001b[0m\n\u001b[0;32m   1121\u001b[0m \u001b[38;5;129m@array_function_dispatch\u001b[39m(_argmax_dispatcher)\n\u001b[0;32m   1122\u001b[0m \u001b[38;5;28;01mdef\u001b[39;00m \u001b[38;5;21margmax\u001b[39m(a, axis\u001b[38;5;241m=\u001b[39m\u001b[38;5;28;01mNone\u001b[39;00m, out\u001b[38;5;241m=\u001b[39m\u001b[38;5;28;01mNone\u001b[39;00m):\n\u001b[0;32m   1123\u001b[0m     \u001b[38;5;124;03m\"\"\"\u001b[39;00m\n\u001b[0;32m   1124\u001b[0m \u001b[38;5;124;03m    Returns the indices of the maximum values along an axis.\u001b[39;00m\n\u001b[0;32m   1125\u001b[0m \n\u001b[1;32m   (...)\u001b[0m\n\u001b[0;32m   1193\u001b[0m \n\u001b[0;32m   1194\u001b[0m \u001b[38;5;124;03m    \"\"\"\u001b[39;00m\n\u001b[1;32m-> 1195\u001b[0m     \u001b[38;5;28;01mreturn\u001b[39;00m \u001b[43m_wrapfunc\u001b[49m\u001b[43m(\u001b[49m\u001b[43ma\u001b[49m\u001b[43m,\u001b[49m\u001b[43m \u001b[49m\u001b[38;5;124;43m'\u001b[39;49m\u001b[38;5;124;43margmax\u001b[39;49m\u001b[38;5;124;43m'\u001b[39;49m\u001b[43m,\u001b[49m\u001b[43m \u001b[49m\u001b[43maxis\u001b[49m\u001b[38;5;241;43m=\u001b[39;49m\u001b[43maxis\u001b[49m\u001b[43m,\u001b[49m\u001b[43m \u001b[49m\u001b[43mout\u001b[49m\u001b[38;5;241;43m=\u001b[39;49m\u001b[43mout\u001b[49m\u001b[43m)\u001b[49m\n",
      "File \u001b[1;32m~\\anaconda3\\lib\\site-packages\\numpy\\core\\fromnumeric.py:57\u001b[0m, in \u001b[0;36m_wrapfunc\u001b[1;34m(obj, method, *args, **kwds)\u001b[0m\n\u001b[0;32m     54\u001b[0m     \u001b[38;5;28;01mreturn\u001b[39;00m _wrapit(obj, method, \u001b[38;5;241m*\u001b[39margs, \u001b[38;5;241m*\u001b[39m\u001b[38;5;241m*\u001b[39mkwds)\n\u001b[0;32m     56\u001b[0m \u001b[38;5;28;01mtry\u001b[39;00m:\n\u001b[1;32m---> 57\u001b[0m     \u001b[38;5;28;01mreturn\u001b[39;00m bound(\u001b[38;5;241m*\u001b[39margs, \u001b[38;5;241m*\u001b[39m\u001b[38;5;241m*\u001b[39mkwds)\n\u001b[0;32m     58\u001b[0m \u001b[38;5;28;01mexcept\u001b[39;00m \u001b[38;5;167;01mTypeError\u001b[39;00m:\n\u001b[0;32m     59\u001b[0m     \u001b[38;5;66;03m# A TypeError occurs if the object does have such a method in its\u001b[39;00m\n\u001b[0;32m     60\u001b[0m     \u001b[38;5;66;03m# class, but its signature is not identical to that of NumPy's. This\u001b[39;00m\n\u001b[1;32m   (...)\u001b[0m\n\u001b[0;32m     64\u001b[0m     \u001b[38;5;66;03m# Call _wrapit from within the except clause to ensure a potential\u001b[39;00m\n\u001b[0;32m     65\u001b[0m     \u001b[38;5;66;03m# exception has a traceback chain.\u001b[39;00m\n\u001b[0;32m     66\u001b[0m     \u001b[38;5;28;01mreturn\u001b[39;00m _wrapit(obj, method, \u001b[38;5;241m*\u001b[39margs, \u001b[38;5;241m*\u001b[39m\u001b[38;5;241m*\u001b[39mkwds)\n",
      "\u001b[1;31mValueError\u001b[0m: attempt to get argmax of an empty sequence"
     ]
    }
   ],
   "source": [
    "image = imread('Segmentadas/images/002.tif')\n",
    "\n",
    "mask_sobel_canny = apply_segment_sobel_canny(image)\n",
    "mask_adpt_thresh = adaptive_threshold(image)\n",
    "\n",
    "plot([image, \n",
    "      (image * mask_sobel_canny), \n",
    "      (image * mask_adpt_thresh)], (1, 3))"
   ]
  },
  {
   "cell_type": "markdown",
   "id": "122ac296-908f-417f-9758-eac2618ea401",
   "metadata": {},
   "source": [
    "## Rodando na base completa"
   ]
  },
  {
   "cell_type": "code",
   "execution_count": 14,
   "id": "a35ddd66-1653-4a7c-8159-78acc73c6b77",
   "metadata": {
    "tags": []
   },
   "outputs": [],
   "source": [
    "def run_segmenter(function_run, from_images, destiny_images):\n",
    "    \n",
    "    try:\n",
    "        os.makedirs(destiny_images)\n",
    "    except Exception:\n",
    "        pass\n",
    "\n",
    "    for path in tqdm(glob(f'{from_images}/*')):\n",
    "\n",
    "        image_name = path.split('/')[2]\n",
    "\n",
    "        try:\n",
    "            os.makedirs(f'{destiny_images}/{image_name}')\n",
    "        except Exception as e:\n",
    "            pass\n",
    "\n",
    "        for path_frames in glob(path + '/*'):\n",
    "\n",
    "            image_frame_name,_ = path_frames.split('/')[3].split('.')\n",
    "\n",
    "            try:\n",
    "\n",
    "                frame = imread(path_frames)\n",
    "\n",
    "                mask = function_run(frame).astype(bool)\n",
    "\n",
    "                imsave(f'{destiny_images}/{image_name}/{image_frame_name}.tif', img_as_ubyte(mask))\n",
    "\n",
    "            except Exception as e:\n",
    "                continue"
   ]
  },
  {
   "cell_type": "code",
   "execution_count": 15,
   "id": "ffe791f6-29d4-4b1b-87d8-2e013ffed04d",
   "metadata": {
    "tags": []
   },
   "outputs": [
    {
     "name": "stderr",
     "output_type": "stream",
     "text": [
      "100%|█████████████████████████████████████████████████████████████████| 25/25 [05:10<00:00, 12.41s/it]\n"
     ]
    }
   ],
   "source": [
    "run_segmenter(function_run=adaptive_threshold,\n",
    "              destiny_images='adaptive_threshold',\n",
    "              from_images='segmenter_v2/images')"
   ]
  },
  {
   "cell_type": "code",
   "execution_count": 16,
   "id": "794a4311-71ff-4bc5-af7a-a80e94e1912c",
   "metadata": {},
   "outputs": [
    {
     "name": "stderr",
     "output_type": "stream",
     "text": [
      "100%|█████████████████████████████████████████████████████████████████| 25/25 [05:02<00:00, 12.10s/it]\n"
     ]
    }
   ],
   "source": [
    "run_segmenter(function_run=adaptive_threshold,\n",
    "              destiny_images='sobel_canny',\n",
    "              from_images='segmenter_v2/images')"
   ]
  },
  {
   "cell_type": "code",
   "execution_count": null,
   "id": "0cca2f65-64cc-421e-836e-efa87df26d39",
   "metadata": {},
   "outputs": [],
   "source": []
  }
 ],
 "metadata": {
  "interpreter": {
   "hash": "9f2acf2bf5f004b5e9b7644d1165873e2527270ed8200d98f0cc184b379b8357"
  },
  "kernelspec": {
   "display_name": "Python 3 (ipykernel)",
   "language": "python",
   "name": "python3"
  },
  "language_info": {
   "codemirror_mode": {
    "name": "ipython",
    "version": 3
   },
   "file_extension": ".py",
   "mimetype": "text/x-python",
   "name": "python",
   "nbconvert_exporter": "python",
   "pygments_lexer": "ipython3",
   "version": "3.9.12"
  }
 },
 "nbformat": 4,
 "nbformat_minor": 5
}
