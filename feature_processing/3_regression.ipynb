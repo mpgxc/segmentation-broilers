{
 "cells": [
  {
   "cell_type": "code",
   "execution_count": 1,
   "id": "1875f256-ec28-44c7-abb4-62003ad580f1",
   "metadata": {},
   "outputs": [],
   "source": [
    "import numpy as np\n",
    "import pandas as pd\n",
    "import seaborn as sns\n",
    "import matplotlib.pyplot as plt\n",
    "\n",
    "from glob import glob\n",
    "from sklearn import metrics\n",
    "from sklearn.preprocessing import StandardScaler, LabelEncoder\n",
    "from sklearn.model_selection import train_test_split, cross_val_score\n",
    "from sklearn.linear_model import LinearRegression, Ridge, Lasso, BayesianRidge, ElasticNet, SGDRegressor\n",
    "from sklearn.ensemble import RandomForestRegressor\n",
    "\n",
    "import warnings\n",
    "warnings.filterwarnings('ignore')"
   ]
  },
  {
   "cell_type": "code",
   "execution_count": 2,
   "id": "f8c6fe0d-54ec-4e5c-8271-e63bd40823a9",
   "metadata": {},
   "outputs": [],
   "source": [
    "def print_evaluate(true, predicted):  \n",
    "    \n",
    "    mae = metrics.mean_absolute_error(true, predicted)\n",
    "    mse = metrics.mean_squared_error(true, predicted)\n",
    "    rmse = np.sqrt(metrics.mean_squared_error(true, predicted))\n",
    "    r2_square = metrics.r2_score(true, predicted)\n",
    "    \n",
    "    print('MAE:', mae)\n",
    "    print('MSE:', mse)\n",
    "    print('RMSE:', rmse)\n",
    "    print('R2 Square', r2_square)\n",
    "    \n",
    "def run_all_regressions(X_train, X_test, Y_train, Y_test, regs):\n",
    "\n",
    "    for name, model in regs.items():\n",
    "\n",
    "        model.fit(X_train, Y_train)\n",
    "        \n",
    "        print(f'\\n-----{name}------')\n",
    "        print('[Train] -------------')\n",
    "        print_evaluate(Y_train, model.predict(X_train))\n",
    "\n",
    "        print('[Test] --------------')\n",
    "        print_evaluate(Y_test, model.predict(X_test))"
   ]
  },
  {
   "cell_type": "code",
   "execution_count": 3,
   "id": "b71f7281-86d8-484b-8f4f-60d905dc1f3e",
   "metadata": {},
   "outputs": [],
   "source": [
    "data = pd.read_csv('tmp/labeling_features.csv')"
   ]
  },
  {
   "cell_type": "code",
   "execution_count": 4,
   "id": "6271e1cf-f379-40e5-8dbb-780d9a4f01b5",
   "metadata": {},
   "outputs": [
    {
     "data": {
      "text/html": [
       "<div>\n",
       "<style scoped>\n",
       "    .dataframe tbody tr th:only-of-type {\n",
       "        vertical-align: middle;\n",
       "    }\n",
       "\n",
       "    .dataframe tbody tr th {\n",
       "        vertical-align: top;\n",
       "    }\n",
       "\n",
       "    .dataframe thead th {\n",
       "        text-align: right;\n",
       "    }\n",
       "</style>\n",
       "<table border=\"1\" class=\"dataframe\">\n",
       "  <thead>\n",
       "    <tr style=\"text-align: right;\">\n",
       "      <th></th>\n",
       "      <th>bbox_area</th>\n",
       "      <th>solidity</th>\n",
       "      <th>equivalent_diameter</th>\n",
       "      <th>orientation</th>\n",
       "      <th>convex_area</th>\n",
       "      <th>area</th>\n",
       "      <th>extent</th>\n",
       "      <th>eccentricity</th>\n",
       "      <th>major_axis_length</th>\n",
       "      <th>feret_diameter_max</th>\n",
       "      <th>perimeter</th>\n",
       "      <th>minor_axis_length</th>\n",
       "      <th>label</th>\n",
       "      <th>target</th>\n",
       "    </tr>\n",
       "  </thead>\n",
       "  <tbody>\n",
       "    <tr>\n",
       "      <th>0</th>\n",
       "      <td>9855</td>\n",
       "      <td>0.775386</td>\n",
       "      <td>83.492434</td>\n",
       "      <td>0.339413</td>\n",
       "      <td>7061</td>\n",
       "      <td>5475</td>\n",
       "      <td>0.555556</td>\n",
       "      <td>0.902083</td>\n",
       "      <td>135.147630</td>\n",
       "      <td>146.931957</td>\n",
       "      <td>392.149278</td>\n",
       "      <td>58.324599</td>\n",
       "      <td>27</td>\n",
       "      <td>1780</td>\n",
       "    </tr>\n",
       "    <tr>\n",
       "      <th>1</th>\n",
       "      <td>18081</td>\n",
       "      <td>0.918288</td>\n",
       "      <td>107.124731</td>\n",
       "      <td>-0.663402</td>\n",
       "      <td>9815</td>\n",
       "      <td>9013</td>\n",
       "      <td>0.498479</td>\n",
       "      <td>0.879804</td>\n",
       "      <td>162.473830</td>\n",
       "      <td>171.679935</td>\n",
       "      <td>441.730014</td>\n",
       "      <td>77.229835</td>\n",
       "      <td>21</td>\n",
       "      <td>2126</td>\n",
       "    </tr>\n",
       "    <tr>\n",
       "      <th>2</th>\n",
       "      <td>6300</td>\n",
       "      <td>0.812136</td>\n",
       "      <td>69.200101</td>\n",
       "      <td>0.074987</td>\n",
       "      <td>4631</td>\n",
       "      <td>3761</td>\n",
       "      <td>0.596984</td>\n",
       "      <td>0.826929</td>\n",
       "      <td>94.766761</td>\n",
       "      <td>101.271911</td>\n",
       "      <td>294.308658</td>\n",
       "      <td>53.288002</td>\n",
       "      <td>18</td>\n",
       "      <td>1515</td>\n",
       "    </tr>\n",
       "    <tr>\n",
       "      <th>3</th>\n",
       "      <td>14592</td>\n",
       "      <td>0.919951</td>\n",
       "      <td>92.836192</td>\n",
       "      <td>-0.754742</td>\n",
       "      <td>7358</td>\n",
       "      <td>6769</td>\n",
       "      <td>0.463884</td>\n",
       "      <td>0.916614</td>\n",
       "      <td>152.469823</td>\n",
       "      <td>162.742127</td>\n",
       "      <td>394.759451</td>\n",
       "      <td>60.953391</td>\n",
       "      <td>24</td>\n",
       "      <td>1172</td>\n",
       "    </tr>\n",
       "    <tr>\n",
       "      <th>4</th>\n",
       "      <td>9483</td>\n",
       "      <td>0.766846</td>\n",
       "      <td>78.566312</td>\n",
       "      <td>-1.002721</td>\n",
       "      <td>6322</td>\n",
       "      <td>4848</td>\n",
       "      <td>0.511231</td>\n",
       "      <td>0.733222</td>\n",
       "      <td>102.017098</td>\n",
       "      <td>122.449990</td>\n",
       "      <td>357.462987</td>\n",
       "      <td>69.370589</td>\n",
       "      <td>19</td>\n",
       "      <td>1280</td>\n",
       "    </tr>\n",
       "  </tbody>\n",
       "</table>\n",
       "</div>"
      ],
      "text/plain": [
       "   bbox_area  solidity  equivalent_diameter  orientation  convex_area  area  \\\n",
       "0       9855  0.775386            83.492434     0.339413         7061  5475   \n",
       "1      18081  0.918288           107.124731    -0.663402         9815  9013   \n",
       "2       6300  0.812136            69.200101     0.074987         4631  3761   \n",
       "3      14592  0.919951            92.836192    -0.754742         7358  6769   \n",
       "4       9483  0.766846            78.566312    -1.002721         6322  4848   \n",
       "\n",
       "     extent  eccentricity  major_axis_length  feret_diameter_max   perimeter  \\\n",
       "0  0.555556      0.902083         135.147630          146.931957  392.149278   \n",
       "1  0.498479      0.879804         162.473830          171.679935  441.730014   \n",
       "2  0.596984      0.826929          94.766761          101.271911  294.308658   \n",
       "3  0.463884      0.916614         152.469823          162.742127  394.759451   \n",
       "4  0.511231      0.733222         102.017098          122.449990  357.462987   \n",
       "\n",
       "   minor_axis_length  label  target  \n",
       "0          58.324599     27    1780  \n",
       "1          77.229835     21    2126  \n",
       "2          53.288002     18    1515  \n",
       "3          60.953391     24    1172  \n",
       "4          69.370589     19    1280  "
      ]
     },
     "execution_count": 4,
     "metadata": {},
     "output_type": "execute_result"
    }
   ],
   "source": [
    "data.head()"
   ]
  },
  {
   "cell_type": "code",
   "execution_count": 5,
   "id": "161731ca-7ea2-4e0a-aa0c-2577c43ea5db",
   "metadata": {},
   "outputs": [
    {
     "data": {
      "text/plain": [
       "40.028"
      ]
     },
     "execution_count": 5,
     "metadata": {},
     "output_type": "execute_result"
    }
   ],
   "source": [
    "data.target.sum() / 1000"
   ]
  },
  {
   "cell_type": "code",
   "execution_count": 6,
   "id": "0ee2b11e-fe99-47f0-859e-80d4b39cf262",
   "metadata": {},
   "outputs": [
    {
     "data": {
      "image/png": "[encoded data removed]",
      "text/plain": [
       "<Figure size 720x720 with 2 Axes>"
      ]
     },
     "metadata": {
      "needs_background": "light"
     },
     "output_type": "display_data"
    }
   ],
   "source": [
    "corrmat = data.corr()\n",
    "\n",
    "_, ax = plt.subplots(figsize=(10, 10))\n",
    "\n",
    "sns.heatmap(corrmat, linewidths=5, annot=True);"
   ]
  },
  {
   "cell_type": "code",
   "execution_count": 22,
   "id": "fbf1cc70-cdca-44ca-adfe-23a35d359bf3",
   "metadata": {},
   "outputs": [
    {
     "data": {
      "text/plain": [
       "Series([], Name: target, dtype: float64)"
      ]
     },
     "execution_count": 22,
     "metadata": {},
     "output_type": "execute_result"
    }
   ],
   "source": [
    "corrmat[corrmat.target <= -0.3].target"
   ]
  },
  {
   "cell_type": "code",
   "execution_count": 8,
   "id": "ab101b14-679f-4814-837d-ba2aedf05f39",
   "metadata": {},
   "outputs": [
    {
     "data": {
      "text/plain": [
       "bbox_area              0.355131\n",
       "equivalent_diameter    0.597635\n",
       "convex_area            0.559276\n",
       "area                   0.614031\n",
       "major_axis_length      0.471827\n",
       "feret_diameter_max     0.404394\n",
       "perimeter              0.432770\n",
       "minor_axis_length      0.408990\n",
       "target                 1.000000\n",
       "Name: target, dtype: float64"
      ]
     },
     "execution_count": 8,
     "metadata": {},
     "output_type": "execute_result"
    }
   ],
   "source": [
    "corrmat[corrmat.target >= 0.3].target"
   ]
  },
  {
   "cell_type": "code",
   "execution_count": 9,
   "id": "3387c2f9-f71f-4f43-a949-431452cc6573",
   "metadata": {},
   "outputs": [],
   "source": [
    "features_names = list(dict(corrmat[corrmat.target >= 0.3].target).keys())"
   ]
  },
  {
   "cell_type": "code",
   "execution_count": 10,
   "id": "23fcd4f0-002c-4252-872a-63b8ac877240",
   "metadata": {},
   "outputs": [],
   "source": [
    "X = data[features_names].drop(labels=['target'], axis=1)\n",
    "y = data.target\n",
    "l = data.label"
   ]
  },
  {
   "cell_type": "code",
   "execution_count": 11,
   "id": "29aa1a29-84e6-4b7a-afe0-369b75051b61",
   "metadata": {},
   "outputs": [
    {
     "data": {
      "text/html": [
       "<div>\n",
       "<style scoped>\n",
       "    .dataframe tbody tr th:only-of-type {\n",
       "        vertical-align: middle;\n",
       "    }\n",
       "\n",
       "    .dataframe tbody tr th {\n",
       "        vertical-align: top;\n",
       "    }\n",
       "\n",
       "    .dataframe thead th {\n",
       "        text-align: right;\n",
       "    }\n",
       "</style>\n",
       "<table border=\"1\" class=\"dataframe\">\n",
       "  <thead>\n",
       "    <tr style=\"text-align: right;\">\n",
       "      <th></th>\n",
       "      <th>bbox_area</th>\n",
       "      <th>equivalent_diameter</th>\n",
       "      <th>convex_area</th>\n",
       "      <th>area</th>\n",
       "      <th>major_axis_length</th>\n",
       "      <th>feret_diameter_max</th>\n",
       "      <th>perimeter</th>\n",
       "      <th>minor_axis_length</th>\n",
       "    </tr>\n",
       "  </thead>\n",
       "  <tbody>\n",
       "    <tr>\n",
       "      <th>0</th>\n",
       "      <td>9855</td>\n",
       "      <td>83.492434</td>\n",
       "      <td>7061</td>\n",
       "      <td>5475</td>\n",
       "      <td>135.147630</td>\n",
       "      <td>146.931957</td>\n",
       "      <td>392.149278</td>\n",
       "      <td>58.324599</td>\n",
       "    </tr>\n",
       "    <tr>\n",
       "      <th>1</th>\n",
       "      <td>18081</td>\n",
       "      <td>107.124731</td>\n",
       "      <td>9815</td>\n",
       "      <td>9013</td>\n",
       "      <td>162.473830</td>\n",
       "      <td>171.679935</td>\n",
       "      <td>441.730014</td>\n",
       "      <td>77.229835</td>\n",
       "    </tr>\n",
       "    <tr>\n",
       "      <th>2</th>\n",
       "      <td>6300</td>\n",
       "      <td>69.200101</td>\n",
       "      <td>4631</td>\n",
       "      <td>3761</td>\n",
       "      <td>94.766761</td>\n",
       "      <td>101.271911</td>\n",
       "      <td>294.308658</td>\n",
       "      <td>53.288002</td>\n",
       "    </tr>\n",
       "    <tr>\n",
       "      <th>3</th>\n",
       "      <td>14592</td>\n",
       "      <td>92.836192</td>\n",
       "      <td>7358</td>\n",
       "      <td>6769</td>\n",
       "      <td>152.469823</td>\n",
       "      <td>162.742127</td>\n",
       "      <td>394.759451</td>\n",
       "      <td>60.953391</td>\n",
       "    </tr>\n",
       "    <tr>\n",
       "      <th>4</th>\n",
       "      <td>9483</td>\n",
       "      <td>78.566312</td>\n",
       "      <td>6322</td>\n",
       "      <td>4848</td>\n",
       "      <td>102.017098</td>\n",
       "      <td>122.449990</td>\n",
       "      <td>357.462987</td>\n",
       "      <td>69.370589</td>\n",
       "    </tr>\n",
       "  </tbody>\n",
       "</table>\n",
       "</div>"
      ],
      "text/plain": [
       "   bbox_area  equivalent_diameter  convex_area  area  major_axis_length  \\\n",
       "0       9855            83.492434         7061  5475         135.147630   \n",
       "1      18081           107.124731         9815  9013         162.473830   \n",
       "2       6300            69.200101         4631  3761          94.766761   \n",
       "3      14592            92.836192         7358  6769         152.469823   \n",
       "4       9483            78.566312         6322  4848         102.017098   \n",
       "\n",
       "   feret_diameter_max   perimeter  minor_axis_length  \n",
       "0          146.931957  392.149278          58.324599  \n",
       "1          171.679935  441.730014          77.229835  \n",
       "2          101.271911  294.308658          53.288002  \n",
       "3          162.742127  394.759451          60.953391  \n",
       "4          122.449990  357.462987          69.370589  "
      ]
     },
     "execution_count": 11,
     "metadata": {},
     "output_type": "execute_result"
    }
   ],
   "source": [
    "X.head()"
   ]
  },
  {
   "cell_type": "code",
   "execution_count": 12,
   "id": "3e936ab1-9427-4f6c-a238-b2c2d6e8567e",
   "metadata": {},
   "outputs": [],
   "source": [
    "X_train, X_test, y_train, y_test = train_test_split(X.values, \n",
    "                                                    y.values, \n",
    "                                                    test_size=0.2,\n",
    "                                                    random_state=0)"
   ]
  },
  {
   "cell_type": "code",
   "execution_count": 13,
   "id": "faf90f11-2549-4496-9e14-73e9154d15a6",
   "metadata": {},
   "outputs": [],
   "source": [
    "scaler = StandardScaler()"
   ]
  },
  {
   "cell_type": "code",
   "execution_count": 14,
   "id": "559ea8fa-2d23-428b-9fb4-b5dde87c009a",
   "metadata": {},
   "outputs": [],
   "source": [
    "scaled_x_train = scaler.fit_transform(X_train)\n",
    "scaled_x_test = scaler.transform(X_test)"
   ]
  },
  {
   "cell_type": "code",
   "execution_count": 15,
   "id": "bda88926-7f7c-4cef-b24b-ea5e1a257b6b",
   "metadata": {},
   "outputs": [
    {
     "name": "stdout",
     "output_type": "stream",
     "text": [
      "\n",
      "-----Lasso------\n",
      "[Train] -------------\n",
      "MAE: 161.54250019053563\n",
      "MSE: 33748.49279470079\n",
      "RMSE: 183.70762856969438\n",
      "R2 Square 0.6916255013735313\n",
      "[Test] --------------\n",
      "MAE: 179.39607050305295\n",
      "MSE: 51480.54656447763\n",
      "RMSE: 226.89324927039505\n",
      "R2 Square 0.5881403392535721\n",
      "\n",
      "-----LinearRegression------\n",
      "[Train] -------------\n",
      "MAE: 155.50852129860323\n",
      "MSE: 32396.063475593874\n",
      "RMSE: 179.98906487782494\n",
      "R2 Square 0.7039832299317921\n",
      "[Test] --------------\n",
      "MAE: 193.33116053963423\n",
      "MSE: 56967.49915002938\n",
      "RMSE: 238.67865248075577\n",
      "R2 Square 0.5442430891032325\n"
     ]
    }
   ],
   "source": [
    "run_all_regressions(scaled_x_train, \n",
    "                    scaled_x_test,\n",
    "                    y_train,\n",
    "                    y_test,\n",
    "                    regs = {\n",
    "                        \"Lasso\": Lasso(), \n",
    "                        \"LinearRegression\": LinearRegression(),\n",
    "                    })"
   ]
  },
  {
   "cell_type": "code",
   "execution_count": 16,
   "id": "79540490-6e7c-429f-80e5-96808c8f4729",
   "metadata": {},
   "outputs": [
    {
     "name": "stdout",
     "output_type": "stream",
     "text": [
      "\n",
      "-----Ridge------\n",
      "[Train] -------------\n",
      "MAE: 191.15104623693364\n",
      "MSE: 45809.88319875141\n",
      "RMSE: 214.03243492225988\n",
      "R2 Square 0.5814153879556296\n",
      "[Test] --------------\n",
      "MAE: 150.4275163464723\n",
      "MSE: 41694.05319677189\n",
      "RMSE: 204.19121723710816\n",
      "R2 Square 0.6664351925001706\n",
      "\n",
      "-----BayesianRidge------\n",
      "[Train] -------------\n",
      "MAE: 196.8699017174109\n",
      "MSE: 50825.747945935254\n",
      "RMSE: 225.4456651744168\n",
      "R2 Square 0.5355832737335132\n",
      "[Test] --------------\n",
      "MAE: 167.07486484906818\n",
      "MSE: 46179.97563661449\n",
      "RMSE: 214.8952666687065\n",
      "R2 Square 0.6305464807924511\n",
      "\n",
      "-----ElasticNet------\n",
      "[Train] -------------\n",
      "MAE: 205.17336263681636\n",
      "MSE: 68656.66718367225\n",
      "RMSE: 262.0241728995099\n",
      "R2 Square 0.3726544930784673\n",
      "[Test] --------------\n",
      "MAE: 210.60802333143823\n",
      "MSE: 66830.10478952134\n",
      "RMSE: 258.5151925700332\n",
      "R2 Square 0.465339315079205\n",
      "\n",
      "-----SGDRegressor------\n",
      "[Train] -------------\n",
      "MAE: 189.02856061982556\n",
      "MSE: 42335.023074376004\n",
      "RMSE: 205.75476440261596\n",
      "R2 Square 0.6131666799368712\n",
      "[Test] --------------\n",
      "MAE: 133.8839505935171\n",
      "MSE: 35825.0575031023\n",
      "RMSE: 189.2750842110559\n",
      "R2 Square 0.7133889009711856\n"
     ]
    }
   ],
   "source": [
    "run_all_regressions(scaled_x_train, \n",
    "                    scaled_x_test,\n",
    "                    y_train,\n",
    "                    y_test,\n",
    "                    regs = {\n",
    "                        \"Ridge\": Ridge(),\n",
    "                        \"BayesianRidge\": BayesianRidge(), \n",
    "                        \"ElasticNet\": ElasticNet(), \n",
    "                        \"SGDRegressor\": SGDRegressor()\n",
    "                    })"
   ]
  },
  {
   "cell_type": "code",
   "execution_count": null,
   "id": "c7330330-ac62-49a0-aa1e-b17f2e475b0c",
   "metadata": {},
   "outputs": [],
   "source": []
  },
  {
   "cell_type": "code",
   "execution_count": 17,
   "id": "93f49448-c903-40b3-9b3f-17aef7f6364a",
   "metadata": {},
   "outputs": [],
   "source": [
    "model = SGDRegressor().fit(scaled_x_train, y_train)\n",
    "preds = model.predict(scaled_x_test)"
   ]
  },
  {
   "cell_type": "code",
   "execution_count": 18,
   "id": "ed807050-5faf-4dd6-910e-680bb89ba6c5",
   "metadata": {},
   "outputs": [
    {
     "data": {
      "text/html": [
       "<div>\n",
       "<style scoped>\n",
       "    .dataframe tbody tr th:only-of-type {\n",
       "        vertical-align: middle;\n",
       "    }\n",
       "\n",
       "    .dataframe tbody tr th {\n",
       "        vertical-align: top;\n",
       "    }\n",
       "\n",
       "    .dataframe thead th {\n",
       "        text-align: right;\n",
       "    }\n",
       "</style>\n",
       "<table border=\"1\" class=\"dataframe\">\n",
       "  <thead>\n",
       "    <tr style=\"text-align: right;\">\n",
       "      <th></th>\n",
       "      <th>predicted</th>\n",
       "      <th>true_value</th>\n",
       "    </tr>\n",
       "  </thead>\n",
       "  <tbody>\n",
       "    <tr>\n",
       "      <th>0</th>\n",
       "      <td>1825.990932</td>\n",
       "      <td>1871</td>\n",
       "    </tr>\n",
       "    <tr>\n",
       "      <th>1</th>\n",
       "      <td>1473.150700</td>\n",
       "      <td>1515</td>\n",
       "    </tr>\n",
       "    <tr>\n",
       "      <th>2</th>\n",
       "      <td>1433.808633</td>\n",
       "      <td>1275</td>\n",
       "    </tr>\n",
       "    <tr>\n",
       "      <th>3</th>\n",
       "      <td>1788.674103</td>\n",
       "      <td>2175</td>\n",
       "    </tr>\n",
       "    <tr>\n",
       "      <th>4</th>\n",
       "      <td>1230.158093</td>\n",
       "      <td>1268</td>\n",
       "    </tr>\n",
       "  </tbody>\n",
       "</table>\n",
       "</div>"
      ],
      "text/plain": [
       "     predicted  true_value\n",
       "0  1825.990932        1871\n",
       "1  1473.150700        1515\n",
       "2  1433.808633        1275\n",
       "3  1788.674103        2175\n",
       "4  1230.158093        1268"
      ]
     },
     "execution_count": 18,
     "metadata": {},
     "output_type": "execute_result"
    }
   ],
   "source": [
    "pd.DataFrame({\n",
    "    'predicted': preds,\n",
    "    'true_value': y_test\n",
    "})"
   ]
  },
  {
   "cell_type": "code",
   "execution_count": 19,
   "id": "83845d19-a0b4-4fe7-9383-0b4fc50d893e",
   "metadata": {},
   "outputs": [],
   "source": [
    "model = SGDRegressor()\n",
    "scaled_x = scaler.fit_transform(X)\n",
    "scores = cross_val_score(model, scaled_x, y, cv=5, scoring='r2')"
   ]
  },
  {
   "cell_type": "code",
   "execution_count": 20,
   "id": "bd3bb0fc-03be-43f1-ba40-4ac9a9b6e58a",
   "metadata": {},
   "outputs": [
    {
     "data": {
      "text/plain": [
       "array([ 0.56344618, -1.81095856,  0.73884371,  0.38906883, -0.7650819 ])"
      ]
     },
     "execution_count": 20,
     "metadata": {},
     "output_type": "execute_result"
    }
   ],
   "source": [
    "scores"
   ]
  },
  {
   "cell_type": "code",
   "execution_count": 21,
   "id": "08d45d34-78dc-458c-8e6c-d8270936b98a",
   "metadata": {},
   "outputs": [
    {
     "data": {
      "text/plain": [
       "-0.1769363489469051"
      ]
     },
     "execution_count": 21,
     "metadata": {},
     "output_type": "execute_result"
    }
   ],
   "source": [
    "np.mean(scores)"
   ]
  }
 ],
 "metadata": {
  "kernelspec": {
   "display_name": "Python 3 (ipykernel)",
   "language": "python",
   "name": "python3"
  },
  "language_info": {
   "codemirror_mode": {
    "name": "ipython",
    "version": 3
   },
   "file_extension": ".py",
   "mimetype": "text/x-python",
   "name": "python",
   "nbconvert_exporter": "python",
   "pygments_lexer": "ipython3",
   "version": "3.9.7"
  }
 },
 "nbformat": 4,
 "nbformat_minor": 5
}
