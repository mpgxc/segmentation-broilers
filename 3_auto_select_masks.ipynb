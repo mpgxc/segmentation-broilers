{
 "cells": [
  {
   "cell_type": "code",
   "execution_count": 1,
   "id": "c61224e3-4382-4d8f-ae4f-d27eecaf6fe9",
   "metadata": {},
   "outputs": [],
   "source": [
    "import pandas as pd\n",
    "import os\n",
    "\n",
    "from glob import glob\n",
    "from commons import load_paths_images_sorted, plot, check_colision_border\n",
    "\n",
    "from skimage.io import imread_collection, imread, imsave\n",
    "from skimage.measure import label as region_label, regionprops_table, regionprops\n",
    "\n",
    "from skimage import (\n",
    "    img_as_ubyte,\n",
    ")"
   ]
  },
  {
   "cell_type": "code",
   "execution_count": 2,
   "id": "968e3321-30e4-4271-992d-0070e081064f",
   "metadata": {},
   "outputs": [],
   "source": [
    "def extrat_area(clusters):\n",
    "    \n",
    "    return max(map(lambda item: item.area, regionprops(clusters)))\n",
    "\n",
    "def select_only_valid_masks(image_paths:list):\n",
    "    images = []\n",
    "    paths = []\n",
    "    \n",
    "    for (img, path) in zip(imread_collection(image_paths), image_paths):\n",
    "        if not check_colision_border(img):\n",
    "            images.append(img)\n",
    "            paths.append(path)\n",
    "        \n",
    "    return {\n",
    "        'images': images,\n",
    "        'paths': paths\n",
    "    }"
   ]
  },
  {
   "cell_type": "code",
   "execution_count": 5,
   "id": "307b32a7-9f5b-453e-a723-cf7218e335d4",
   "metadata": {},
   "outputs": [],
   "source": [
    "_input = 'sobel_canny'"
   ]
  },
  {
   "cell_type": "code",
   "execution_count": 6,
   "id": "d1fdbb61-d032-4181-a21d-53ce59c7b8c9",
   "metadata": {},
   "outputs": [
    {
     "name": "stderr",
     "output_type": "stream",
     "text": [
      "100%|███████████████████████████████████████████████████████████| 202/202 [00:00<00:00, 601312.57it/s]\n",
      "100%|██████████████████████████████████████████████████████████| 326/326 [00:00<00:00, 1375596.68it/s]\n",
      "100%|█████████████████████████████████████████████████████████████| 85/85 [00:00<00:00, 918855.26it/s]\n",
      "100%|██████████████████████████████████████████████████████████| 424/424 [00:00<00:00, 1438822.73it/s]\n",
      "100%|██████████████████████████████████████████████████████████| 294/294 [00:00<00:00, 1365587.35it/s]\n",
      "100%|██████████████████████████████████████████████████████████| 233/233 [00:00<00:00, 1331434.38it/s]\n",
      "100%|██████████████████████████████████████████████████████████| 154/154 [00:00<00:00, 1057156.82it/s]\n",
      "100%|██████████████████████████████████████████████████████████| 557/557 [00:00<00:00, 1447476.66it/s]\n",
      "100%|██████████████████████████████████████████████████████████| 314/314 [00:00<00:00, 1236630.48it/s]\n",
      "100%|██████████████████████████████████████████████████████████| 132/132 [00:00<00:00, 1036794.25it/s]\n",
      "100%|█████████████████████████████████████████████████████████████| 47/47 [00:00<00:00, 738323.18it/s]\n",
      "100%|█████████████████████████████████████████████████████████████| 78/78 [00:00<00:00, 803822.39it/s]\n",
      "100%|██████████████████████████████████████████████████████████| 211/211 [00:00<00:00, 1138993.75it/s]\n",
      "100%|███████████████████████████████████████████████████████████| 161/161 [00:00<00:00, 579642.01it/s]\n",
      "100%|██████████████████████████████████████████████████████████| 483/483 [00:00<00:00, 1456397.43it/s]\n",
      "100%|██████████████████████████████████████████████████████████| 282/282 [00:00<00:00, 1350221.15it/s]\n",
      "100%|███████████████████████████████████████████████████████████| 101/101 [00:00<00:00, 848947.30it/s]\n",
      "100%|██████████████████████████████████████████████████████████| 109/109 [00:00<00:00, 1073190.46it/s]\n",
      "100%|██████████████████████████████████████████████████████████| 158/158 [00:00<00:00, 1005614.62it/s]\n",
      "100%|███████████████████████████████████████████████████████████| 116/116 [00:00<00:00, 928510.05it/s]\n",
      "100%|██████████████████████████████████████████████████████████| 128/128 [00:00<00:00, 1135033.64it/s]\n",
      "100%|██████████████████████████████████████████████████████████| 312/312 [00:00<00:00, 1200571.42it/s]\n",
      "100%|██████████████████████████████████████████████████████████| 302/302 [00:00<00:00, 1387382.05it/s]\n",
      "100%|██████████████████████████████████████████████████████████| 410/410 [00:00<00:00, 1433053.87it/s]\n",
      "100%|█████████████████████████████████████████████████████████████| 49/49 [00:00<00:00, 588885.09it/s]\n"
     ]
    }
   ],
   "source": [
    "for index_image in glob(f'{_input}/*'):\n",
    "    \n",
    "    image_paths = load_paths_images_sorted(index_image)\n",
    "    images_paths = select_only_valid_masks(image_paths)\n",
    "    images_area_pd = pd.DataFrame({\n",
    "        'area': map(extrat_area, images_paths['images']),\n",
    "        'path': images_paths['paths']\n",
    "    })\n",
    "\n",
    "    areas = images_area_pd.area.to_list()\n",
    "    median = areas[len(areas) // 2] #median = images_area_pd.area.median()\n",
    "    query = images_area_pd.area == median\n",
    "    best_mask, *_ = images_area_pd[query].path.to_list()\n",
    "    \n",
    "    image_name = index_image.split(\"/\")[1]\n",
    "    imsave(f'auto_selected_masks/{image_name}.tif', img_as_ubyte(imread(best_mask)))"
   ]
  },
  {
   "cell_type": "code",
   "execution_count": null,
   "id": "6e81a519-1675-47b2-843f-8372aac44ad2",
   "metadata": {},
   "outputs": [],
   "source": []
  }
 ],
 "metadata": {
  "kernelspec": {
   "display_name": "Python 3 (ipykernel)",
   "language": "python",
   "name": "python3"
  },
  "language_info": {
   "codemirror_mode": {
    "name": "ipython",
    "version": 3
   },
   "file_extension": ".py",
   "mimetype": "text/x-python",
   "name": "python",
   "nbconvert_exporter": "python",
   "pygments_lexer": "ipython3",
   "version": "3.9.7"
  }
 },
 "nbformat": 4,
 "nbformat_minor": 5
}
