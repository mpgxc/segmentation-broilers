{
 "cells": [
  {
   "cell_type": "code",
   "execution_count": 26,
   "id": "c61224e3-4382-4d8f-ae4f-d27eecaf6fe9",
   "metadata": {},
   "outputs": [],
   "source": [
    "import pandas as pd\n",
    "import os\n",
    "\n",
    "from glob import glob\n",
    "from commons import load_paths_images_sorted, plot, check_colision_border\n",
    "\n",
    "from skimage.io import imread_collection, imread, imsave\n",
    "from skimage.measure import label as region_label, regionprops_table, regionprops\n",
    "\n",
    "from skimage import (\n",
    "    img_as_ubyte,\n",
    ")"
   ]
  },
  {
   "cell_type": "code",
   "execution_count": 27,
   "id": "968e3321-30e4-4271-992d-0070e081064f",
   "metadata": {},
   "outputs": [],
   "source": [
    "def extrat_area(clusters):\n",
    "    \n",
    "    return max(map(lambda item: item.area, regionprops(clusters)))\n",
    "\n",
    "def select_only_valid_masks(image_paths:list):\n",
    "    images = []\n",
    "    paths = []\n",
    "    \n",
    "    for (img, path) in zip(imread_collection(image_paths), image_paths):\n",
    "        if not check_colision_border(img):\n",
    "            images.append(img)\n",
    "            paths.append(path)\n",
    "        \n",
    "    return {\n",
    "        'images': images,\n",
    "        'paths': paths\n",
    "    }"
   ]
  },
  {
   "cell_type": "code",
   "execution_count": 31,
   "id": "307b32a7-9f5b-453e-a723-cf7218e335d4",
   "metadata": {},
   "outputs": [],
   "source": [
    "_input = 'sobel_canny'"
   ]
  },
  {
   "cell_type": "code",
   "execution_count": 32,
   "id": "d1fdbb61-d032-4181-a21d-53ce59c7b8c9",
   "metadata": {},
   "outputs": [
    {
     "name": "stderr",
     "output_type": "stream",
     "text": [
      "100%|███████████████████████████████████████████████████████████| 202/202 [00:00<00:00, 388468.32it/s]\n",
      "100%|███████████████████████████████████████████████████████████| 326/326 [00:00<00:00, 650186.93it/s]\n",
      "100%|█████████████████████████████████████████████████████████████| 85/85 [00:00<00:00, 829106.60it/s]\n",
      "100%|███████████████████████████████████████████████████████████| 433/433 [00:00<00:00, 847077.25it/s]\n",
      "100%|██████████████████████████████████████████████████████████| 294/294 [00:00<00:00, 1391789.36it/s]\n",
      "100%|██████████████████████████████████████████████████████████| 264/264 [00:00<00:00, 1410568.48it/s]\n",
      "100%|██████████████████████████████████████████████████████████| 154/154 [00:00<00:00, 1123344.03it/s]\n",
      "100%|██████████████████████████████████████████████████████████| 563/563 [00:00<00:00, 1527421.18it/s]\n",
      "100%|██████████████████████████████████████████████████████████| 319/319 [00:00<00:00, 1181963.76it/s]\n",
      "100%|███████████████████████████████████████████████████████████| 157/157 [00:00<00:00, 578143.75it/s]\n",
      "100%|█████████████████████████████████████████████████████████████| 64/64 [00:00<00:00, 784898.99it/s]\n",
      "100%|█████████████████████████████████████████████████████████████| 85/85 [00:00<00:00, 923616.17it/s]\n",
      "100%|██████████████████████████████████████████████████████████| 218/218 [00:00<00:00, 1220772.06it/s]\n",
      "100%|██████████████████████████████████████████████████████████| 166/166 [00:00<00:00, 1058137.48it/s]\n",
      "100%|██████████████████████████████████████████████████████████| 483/483 [00:00<00:00, 1283807.88it/s]\n",
      "100%|██████████████████████████████████████████████████████████| 282/282 [00:00<00:00, 1306954.40it/s]\n",
      "100%|██████████████████████████████████████████████████████████| 104/104 [00:00<00:00, 1069136.31it/s]\n",
      "100%|██████████████████████████████████████████████████████████| 186/186 [00:00<00:00, 1308960.64it/s]\n",
      "100%|██████████████████████████████████████████████████████████| 158/158 [00:00<00:00, 1117538.00it/s]\n",
      "100%|███████████████████████████████████████████████████████████| 128/128 [00:00<00:00, 924046.32it/s]\n",
      "100%|██████████████████████████████████████████████████████████| 128/128 [00:00<00:00, 1091201.04it/s]\n",
      "100%|██████████████████████████████████████████████████████████| 312/312 [00:00<00:00, 1274218.94it/s]\n",
      "100%|██████████████████████████████████████████████████████████| 302/302 [00:00<00:00, 1264151.50it/s]\n",
      "100%|██████████████████████████████████████████████████████████| 410/410 [00:00<00:00, 1366983.02it/s]\n",
      "100%|█████████████████████████████████████████████████████████████| 72/72 [00:00<00:00, 669600.64it/s]\n"
     ]
    }
   ],
   "source": [
    "for index_image in glob(f'{_input}/*'):\n",
    "    \n",
    "    image_paths = load_paths_images_sorted(index_image)\n",
    "    images_paths = select_only_valid_masks(image_paths)\n",
    "    images_area_pd = pd.DataFrame({\n",
    "        'area': map(extrat_area, images_paths['images']),\n",
    "        'path': images_paths['paths']\n",
    "    })\n",
    "\n",
    "    areas = images_area_pd.area.to_list()\n",
    "    median = areas[len(areas) // 2] #median = images_area_pd.area.median()\n",
    "    query = images_area_pd.area == median\n",
    "    best_mask, *_ = images_area_pd[query].path.to_list()\n",
    "    \n",
    "    image_name = index_image.split(\"/\")[1]\n",
    "    imsave(f'auto_selected_masks/{image_name}.tif', img_as_ubyte(imread(best_mask)))"
   ]
  },
  {
   "cell_type": "code",
   "execution_count": null,
   "id": "6e81a519-1675-47b2-843f-8372aac44ad2",
   "metadata": {},
   "outputs": [],
   "source": []
  }
 ],
 "metadata": {
  "kernelspec": {
   "display_name": "Python 3 (ipykernel)",
   "language": "python",
   "name": "python3"
  },
  "language_info": {
   "codemirror_mode": {
    "name": "ipython",
    "version": 3
   },
   "file_extension": ".py",
   "mimetype": "text/x-python",
   "name": "python",
   "nbconvert_exporter": "python",
   "pygments_lexer": "ipython3",
   "version": "3.9.12"
  }
 },
 "nbformat": 4,
 "nbformat_minor": 5
}
